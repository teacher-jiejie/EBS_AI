{
  "nbformat": 4,
  "nbformat_minor": 0,
  "metadata": {
    "colab": {
      "name": "[고등-18차]군집화.ipynb",
      "provenance": [],
      "collapsed_sections": [],
      "authorship_tag": "ABX9TyPV0YFGLbwEpCfRICUxwlXw",
      "include_colab_link": true
    },
    "kernelspec": {
      "name": "python3",
      "display_name": "Python 3"
    },
    "language_info": {
      "name": "python"
    }
  },
  "cells": [
    {
      "cell_type": "markdown",
      "metadata": {
        "id": "view-in-github",
        "colab_type": "text"
      },
      "source": [
        "<a href=\"https://colab.research.google.com/github/teacher-jiejie/EBS_AI/blob/main/%5B%E1%84%80%E1%85%A9%E1%84%83%E1%85%B3%E1%86%BC_18%E1%84%8E%E1%85%A1%5D%EA%B5%B0%EC%A7%91%ED%99%94.ipynb\" target=\"_parent\"><img src=\"https://colab.research.google.com/assets/colab-badge.svg\" alt=\"Open In Colab\"/></a>"
      ]
    },
    {
      "cell_type": "markdown",
      "metadata": {
        "id": "5eph2m8wBOcX"
      },
      "source": [
        "# [step 1] 데이터 수집 및 탐색하기\n",
        "\n",
        "\n",
        "\n",
        "\n",
        "\n",
        "\n",
        "\n",
        "\n"
      ]
    },
    {
      "cell_type": "markdown",
      "metadata": {
        "id": "iGji7K-LvH3i"
      },
      "source": [
        "### 1-1. 데이터 수집 및 업로드\n",
        "\n",
        "\n",
        "\n",
        "*   [나이에 따른 스마트폰 사용 현황 데이터](https://drive.google.com/file/d/1QPvq6ARwxpA2DrSQfkGQ8wwQMSK-CuQh/view?usp=sharing)\n",
        "\n",
        "\n",
        "\n",
        "\n",
        "\n",
        "\n"
      ]
    },
    {
      "cell_type": "markdown",
      "metadata": {
        "id": "5Z4QlaMZs8ER"
      },
      "source": [
        "\n",
        "\n",
        "```\n",
        "# 코랩에 파일 업로드\n",
        "from google.colab import files\n",
        "uploaded = files.upload()\n",
        "```\n",
        "\n",
        "```\n",
        "import pandas as pd\n",
        "\n",
        "변수 = pd.read_csv(파일이름, encoding='인코딩옵션')\n",
        "```\n",
        "\n",
        "\n",
        "\n"
      ]
    },
    {
      "cell_type": "code",
      "metadata": {
        "id": "QluYXuzTFHP7"
      },
      "source": [
        "# 코랩에 파일 업로드\n",
        "from google.colab import files\n",
        "uploaded = files.upload()"
      ],
      "execution_count": null,
      "outputs": []
    },
    {
      "cell_type": "code",
      "metadata": {
        "id": "2Vy-pr23uRNA"
      },
      "source": [
        "import pandas as pd\n",
        "\n",
        "data = pd.read_csv('smartphone hours.csv')\n",
        "data"
      ],
      "execution_count": null,
      "outputs": []
    },
    {
      "cell_type": "code",
      "metadata": {
        "id": "h3CHevWgFUsF"
      },
      "source": [
        "import matplotlib.pyplot as plt\n",
        "\n",
        "plt.figure(dpi=100)\n",
        "plt.scatter(----, ----, color='b')\n",
        "plt.xlabel('Age')\n",
        "plt.ylabel('hours')\n",
        "plt.show()"
      ],
      "execution_count": null,
      "outputs": []
    },
    {
      "cell_type": "markdown",
      "metadata": {
        "id": "eJfc_QKZg-qV"
      },
      "source": [
        "# [step 2] K-means 첫 번째 학습\n",
        "\n",
        "\n",
        "### 2-1. K-means 모델 생성 및 학습\n",
        "\n",
        "*   KMeans()로 군집화 모델 만들기\n",
        "*   n_clusters = 군집의 개수(K)\n",
        "* random_state를 설정하면 항상 동일한 난수로 알고리즘이 작동해, 재실행해도 동일한 결과가 나온다.\n",
        "\n",
        "\n",
        "\n",
        "```\n",
        "# sklearn에서 KMeans 명령어 import\n",
        "from sklearn.cluster import KMeans\n",
        "```\n",
        "\n",
        "\n"
      ]
    },
    {
      "cell_type": "code",
      "metadata": {
        "id": "5d76mi5_g--K"
      },
      "source": [
        "from sklearn.cluster import KMeans\n",
        "\n",
        "# KMeans 모델 생성\n",
        "\n",
        "# KMeans 모델 학습\n"
      ],
      "execution_count": null,
      "outputs": []
    },
    {
      "cell_type": "markdown",
      "metadata": {
        "id": "fElGHV3FGY5-"
      },
      "source": [
        "### 2-2. K-means 학습결과 확인\n",
        "\n",
        "\n",
        "\n",
        "*   모델이름.labels_ : K-means 학습 결과(군집화 결과)가 저장되어 있음\n",
        "*   모델이름.cluster_centers_ : K-means 학습 결과 형성된 각 군집들의 중심이 저장되어 있음\n",
        "\n"
      ]
    },
    {
      "cell_type": "code",
      "metadata": {
        "id": "4mpSE9TujzEj"
      },
      "source": [
        ""
      ],
      "execution_count": null,
      "outputs": []
    },
    {
      "cell_type": "code",
      "metadata": {
        "id": "v9WcKzugjj_v"
      },
      "source": [
        "data[----] = ----\n",
        "data"
      ],
      "execution_count": null,
      "outputs": []
    },
    {
      "cell_type": "markdown",
      "metadata": {
        "id": "xnSSD9QRIdYY"
      },
      "source": [
        "### 2-3. 첫 번째 학습 결과 시각화하기\n",
        "\n",
        "\n",
        "*   군집별로 색상이 다르게 산점도 표현하기 \n",
        "\n"
      ]
    },
    {
      "cell_type": "code",
      "metadata": {
        "id": "WcMvuz0wIctf"
      },
      "source": [
        "cluster0 = data[data['cluster']==0]\n",
        "cluster1 = data[data['cluster']==1]\n",
        "cluster2 = data[data['cluster']==2]"
      ],
      "execution_count": null,
      "outputs": []
    },
    {
      "cell_type": "code",
      "metadata": {
        "id": "uHmPAuY2KodM"
      },
      "source": [
        "plt.figure(dpi=100)\n",
        "plt.scatter(----, ----, color='r')\n",
        "plt.scatter(----, ----, color='g')\n",
        "plt.scatter(----, ----, color='b')\n",
        "plt.xlabel('Age')\n",
        "plt.ylabel('hours')\n",
        "plt.show()"
      ],
      "execution_count": null,
      "outputs": []
    },
    {
      "cell_type": "markdown",
      "metadata": {
        "id": "JzCAImjvhCJC"
      },
      "source": [
        "### 2-4. 결과 분석 \n"
      ]
    },
    {
      "cell_type": "code",
      "metadata": {
        "id": "qzdQzP2_WZqb"
      },
      "source": [
        ""
      ],
      "execution_count": null,
      "outputs": []
    },
    {
      "cell_type": "markdown",
      "metadata": {
        "id": "9sSvuGGHg_Ec"
      },
      "source": [
        "# [step 3] 정규화\n",
        "\n",
        "<img src='https://github.com/teacher-jiejie/allinone_AI/blob/images/%E1%84%8C%E1%85%A5%E1%86%BC%E1%84%80%E1%85%B2%E1%84%92%E1%85%AA1.png?raw=true' width=600>\n",
        "\n",
        "<br/>\n",
        "\n",
        "<img src='https://github.com/teacher-jiejie/allinone_AI/blob/images/%E1%84%8C%E1%85%A5%E1%86%BC%E1%84%80%E1%85%B2%E1%84%92%E1%85%AA2.png?raw=true' width=600>\n",
        "\n",
        "<br/>\n",
        "<br/>\n",
        "\n",
        "<img src='https://github.com/teacher-jiejie/allinone_AI/blob/images/%EC%A0%95%EA%B7%9C%ED%99%945.png?raw=true' width=600>\n"
      ]
    },
    {
      "cell_type": "code",
      "metadata": {
        "id": "ND_NER44ckk8"
      },
      "source": [
        "# data의 cluster 컬럼 삭제 \n",
        "data = data.drop(['cluster'], axis=1)\n",
        "data"
      ],
      "execution_count": null,
      "outputs": []
    },
    {
      "cell_type": "markdown",
      "metadata": {
        "id": "27aB_A7QdCRy"
      },
      "source": [
        "\n",
        "\n",
        "sklearn.preprocessing 안의 MinMaxScaler로 정규화가 가능\n",
        "\n",
        "\n",
        "```\n",
        "from sklearn.preprocessing import MinMaxScaler\n",
        "\n",
        "```\n",
        "\n",
        "\n",
        "\n"
      ]
    },
    {
      "cell_type": "markdown",
      "metadata": {
        "id": "7H2YRIw7rOt7"
      },
      "source": [
        ""
      ]
    },
    {
      "cell_type": "code",
      "metadata": {
        "id": "gTMzLedWddmV"
      },
      "source": [
        "from sklearn.preprocessing import MinMaxScaler\n",
        "\n",
        "scaler = MinMaxScaler()\n",
        "data = scaler.----\n",
        "\n",
        "# 정규화 결과를 다시 데이터프레임 타입으로 변환\n",
        "data = pd.DataFrame(data, columns=['Age','hours'])\n",
        "data"
      ],
      "execution_count": null,
      "outputs": []
    },
    {
      "cell_type": "markdown",
      "metadata": {
        "id": "I8OBzc7FfSL9"
      },
      "source": [
        "# [step 4] 정규화된 데이터로 K-means 학습하기\n",
        "\n",
        "### 4-1. K-means 모델 생성 및 학습"
      ]
    },
    {
      "cell_type": "code",
      "metadata": {
        "id": "VgzodYDBg_Kz"
      },
      "source": [
        ""
      ],
      "execution_count": null,
      "outputs": []
    },
    {
      "cell_type": "markdown",
      "metadata": {
        "id": "L1xFYxAAfceU"
      },
      "source": [
        "### 4-2. K-means 학습결과 확인\n",
        "\n",
        "\n",
        "\n",
        "*   모델이름.labels_ : K-means 학습 결과(군집화 결과)가 저장되어 있음\n",
        "*   모델이름.cluster_centers_ : K-means 학습 결과 형성된 각 군집들의 중심이 저장되어 있음\n",
        "\n"
      ]
    },
    {
      "cell_type": "code",
      "metadata": {
        "id": "sGu5Gp2Efced"
      },
      "source": [
        ""
      ],
      "execution_count": null,
      "outputs": []
    },
    {
      "cell_type": "code",
      "metadata": {
        "id": "BE0bNn6Ifced"
      },
      "source": [
        "data['cluster'] = km2.labels_\n",
        "data"
      ],
      "execution_count": null,
      "outputs": []
    },
    {
      "cell_type": "markdown",
      "metadata": {
        "id": "8Iatggclfced"
      },
      "source": [
        "### 4-3. 두 번째 학습 결과 시각화하기\n",
        "\n",
        "\n",
        "*   군집별로 색상이 다르게 산점도 표현하기 \n",
        "\n"
      ]
    },
    {
      "cell_type": "code",
      "metadata": {
        "id": "KB41glFKfcee"
      },
      "source": [
        "cluster0 = data[data['cluster']==0]\n",
        "cluster1 = data[data['cluster']==1]\n",
        "cluster2 = data[data['cluster']==2]\n",
        "\n",
        "plt.figure(dpi=100)\n",
        "plt.scatter(cluster0['Age'], cluster0['hours'], color='r')\n",
        "plt.scatter(cluster1['Age'], cluster1['hours'], color='g')\n",
        "plt.scatter(cluster2['Age'], cluster2['hours'], color='b')\n",
        "plt.xlabel('Age')\n",
        "plt.ylabel('hours')\n",
        "plt.show()"
      ],
      "execution_count": null,
      "outputs": []
    },
    {
      "cell_type": "markdown",
      "metadata": {
        "id": "9BxfQWmXgwKO"
      },
      "source": [
        "\n",
        "---\n",
        "---\n",
        "\n",
        "# 참고 학습\n",
        "\n",
        "## 군집화 평가, 오차제곱합(SSE)\n",
        "\n",
        "<img src='https://github.com/teacher-jiejie/allinone_AI/blob/images/%E1%84%80%E1%85%AE%E1%86%AB%E1%84%8C%E1%85%B5%E1%86%B8%E1%84%92%E1%85%AA%20%E1%84%91%E1%85%A7%E1%86%BC%E1%84%80%E1%85%A11.png?raw=true' width=600>\n",
        "\n",
        "<img src='https://github.com/teacher-jiejie/allinone_AI/blob/images/%E1%84%80%E1%85%AE%E1%86%AB%E1%84%8C%E1%85%B5%E1%86%B8%E1%84%92%E1%85%AA%20%E1%84%91%E1%85%A7%E1%86%BC%E1%84%80%E1%85%A12.png?raw=true' width=600>\n"
      ]
    },
    {
      "cell_type": "markdown",
      "metadata": {
        "id": "q-NUxipUyJPp"
      },
      "source": [
        "#### 오차제곱합 sse 확인하기\n",
        "* 모델이름.inertia_ : Kmeans 모델의 오차제곱합이 저장되어 있음"
      ]
    },
    {
      "cell_type": "code",
      "metadata": {
        "id": "UVWejGyDg6Hc"
      },
      "source": [
        "# km2의 오차제곱합 확인\n",
        "km2.inertia_"
      ],
      "execution_count": null,
      "outputs": []
    },
    {
      "cell_type": "markdown",
      "metadata": {
        "id": "1S7jec4RhVIu"
      },
      "source": [
        "#### elbow-plot 그리기 \n",
        "\n",
        "\n",
        "<img src='https://github.com/teacher-jiejie/allinone_AI/blob/images/%E1%84%80%E1%85%AE%E1%86%AB%E1%84%8C%E1%85%B5%E1%86%B8%E1%84%92%E1%85%AA%20%E1%84%91%E1%85%A7%E1%86%BC%E1%84%80%E1%85%A13.png?raw=true' width=600>\n",
        "\n",
        "\n",
        "*   x축이 군집 갯수(K), y축이 오차제곱합(SSE : Sum of Squared Error)인 그래프 그리기\n",
        "\n",
        "\n"
      ]
    },
    {
      "cell_type": "code",
      "metadata": {
        "id": "HyB-f7dPgmxT"
      },
      "source": [
        "# data의 cluster 컬럼 삭제 \n",
        "data = data.drop(['cluster'], axis=1)"
      ],
      "execution_count": null,
      "outputs": []
    },
    {
      "cell_type": "code",
      "metadata": {
        "id": "FGprkOyvhbp0"
      },
      "source": [
        "k_range = []    # 1부터 9까지의 군집 갯수를 차례대로 저장하는 리스트\n",
        "sse = []        # K가 1일때부터 9일때까지의 sse를 차례대로 저장하는 리스트\n",
        "\n",
        "for k in range(1,10) : \n",
        "    km = KMeans(n_clusters=k, random_state=99)\n",
        "    km.fit(data)\n",
        "    k_range.append(k)\n",
        "    sse.append(km.inertia_)"
      ],
      "execution_count": null,
      "outputs": []
    },
    {
      "cell_type": "code",
      "metadata": {
        "id": "EuvQAHG7hYcZ"
      },
      "source": [
        "plt.figure(dpi=100)\n",
        "plt.plot(k_range, sse, color='b')\n",
        "plt.xlabel('K')\n",
        "plt.ylabel('sse')\n",
        "plt.show()"
      ],
      "execution_count": null,
      "outputs": []
    },
    {
      "cell_type": "code",
      "metadata": {
        "id": "xySblg2rhftf"
      },
      "source": [
        ""
      ],
      "execution_count": null,
      "outputs": []
    }
  ]
}
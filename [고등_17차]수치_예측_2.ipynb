{
  "nbformat": 4,
  "nbformat_minor": 0,
  "metadata": {
    "colab": {
      "name": "[고등-17차]수치 예측 2.ipynb",
      "provenance": [],
      "collapsed_sections": [],
      "mount_file_id": "1-nvh1kIA7GgmWe9COl7YwOuMWdD0ki6e",
      "authorship_tag": "ABX9TyP4XgnbkOCug+m7L9Q6egDb",
      "include_colab_link": true
    },
    "kernelspec": {
      "name": "python3",
      "display_name": "Python 3"
    },
    "language_info": {
      "name": "python"
    }
  },
  "cells": [
    {
      "cell_type": "markdown",
      "metadata": {
        "id": "view-in-github",
        "colab_type": "text"
      },
      "source": [
        "<a href=\"https://colab.research.google.com/github/teacher-jiejie/EBS_AI/blob/main/%5B%EA%B3%A0%EB%93%B1_17%EC%B0%A8%5D%EC%88%98%EC%B9%98_%EC%98%88%EC%B8%A1_2.ipynb\" target=\"_parent\"><img src=\"https://colab.research.google.com/assets/colab-badge.svg\" alt=\"Open In Colab\"/></a>"
      ]
    },
    {
      "cell_type": "markdown",
      "metadata": {
        "id": "3dURm2p6bAs8"
      },
      "source": [
        "들어가기 전에, 한글 폰트 설정하기\n",
        "\n",
        "\n",
        "1. 아래 코드 실행\n",
        "\n",
        "```\n",
        "# 한글 폰트 설정\n",
        "import matplotlib as mpl\n",
        "import matplotlib.pyplot as plt\n",
        "!apt -qq -y install fonts-nanum\n",
        "\n",
        "import matplotlib.font_manager as fm\n",
        "\n",
        "fontpath = '/usr/share/fonts/truetype/nanum/NanumBarunGothic.ttf'\n",
        "font = fm.FontProperties(fname=fontpath, size=9)\n",
        "plt.rc('font', family='NanumBarunGothic')\n",
        "mpl.font_manager._rebuild()\n",
        "\n",
        "```\n",
        "\n",
        "2. [런타임] - [런타임 다시 시작]\n"
      ]
    },
    {
      "cell_type": "code",
      "metadata": {
        "id": "ZMGnzxetZgci"
      },
      "source": [
        ""
      ],
      "execution_count": null,
      "outputs": []
    },
    {
      "cell_type": "markdown",
      "metadata": {
        "id": "87oSKBv7iRzx"
      },
      "source": [
        "\n",
        "\n",
        "```\n",
        "# 코랩에 파일 업로드\n",
        " \n",
        "from google.colab import files\n",
        "uploaded = files.upload()\n",
        "```\n",
        "\n",
        "```\n",
        "import pandas as pd\n",
        "\n",
        "변수 = pd.read_csv(파일이름, encoding='인코딩옵션')\n",
        "변수.head()\n",
        "```\n",
        "\n",
        "\n",
        "\n"
      ]
    },
    {
      "cell_type": "code",
      "metadata": {
        "id": "XuFBEK5XiRzy"
      },
      "source": [
        ""
      ],
      "execution_count": null,
      "outputs": []
    },
    {
      "cell_type": "code",
      "metadata": {
        "id": "3N0SZrbU_peg"
      },
      "source": [
        ""
      ],
      "execution_count": null,
      "outputs": []
    },
    {
      "cell_type": "markdown",
      "metadata": {
        "id": "E9ZVl_PDwIqq"
      },
      "source": [
        "-------\n",
        "\n",
        "<img src='https://github.com/teacher-jiejie/allinone_AI/blob/images/%EC%84%A0%ED%98%95%ED%9A%8C%EA%B7%80%20heatmap.png?raw=true' width=400>\n"
      ]
    },
    {
      "cell_type": "markdown",
      "metadata": {
        "id": "mmwT3z8vQL11"
      },
      "source": [
        "\n",
        "# 주제 1. 멤버십 기간으로 연간 소비액 예측하기\n",
        "\n",
        "\n",
        "<img src='https://github.com/teacher-jiejie/allinone_AI/blob/images/%EC%84%A0%ED%98%95%ED%9A%8C%EA%B7%80%20004.png?raw=true' width=700>\n"
      ]
    },
    {
      "cell_type": "markdown",
      "metadata": {
        "id": "K66sdqivBUna"
      },
      "source": [
        "### [step 12] 훈련 데이터와 테스트 데이터 분리하기\n",
        "#### 12-1. 핵심속성과 레이블 분리하기\n",
        "\n"
      ]
    },
    {
      "cell_type": "code",
      "metadata": {
        "id": "PIZU8pXS2YA1"
      },
      "source": [
        "# 머신러닝 알고리즘에 학습시킬 속성은 이차원 형태여야 함\n"
      ],
      "execution_count": null,
      "outputs": []
    },
    {
      "cell_type": "markdown",
      "metadata": {
        "id": "GMoGfR9EBaY0"
      },
      "source": [
        "#### 12-2. 훈련 데이터, 테스트 데이터 분리하기\n",
        "\n",
        "train_test_split() 함수 \n",
        "\n",
        "*   학습데이터와 테스트데이터를 분리하는 명령어\n",
        "*   학습 데이터의 특성과 레이블은 X_train과 y_train에 저장\n",
        "*   테스트 데이터의 특성과 레이블은 X_test, y_test에 저장\n",
        "*  test_size = 학습데이터와 테스트 데이터의 비율 \n",
        "*  random_state = 난수 초기값 설정\n",
        "* train_test_split()은 실행 시마다 랜덤으로 학습 데이터와 테스트 데이터를 나누기 때문에 항상 동일하게 데이터를 분리하기 위해 random_state를 특정 숫자로 지정한다.\n",
        "\n",
        "\n",
        "```\n",
        "# sklearn의 model_selection에서 train_test_split() 명령어를 포함시키기\n",
        "from sklearn.model_selection import train_test_split\n",
        "```\n",
        "\n"
      ]
    },
    {
      "cell_type": "code",
      "metadata": {
        "id": "YcPWrMVKBeO4"
      },
      "source": [
        ""
      ],
      "execution_count": null,
      "outputs": []
    },
    {
      "cell_type": "code",
      "metadata": {
        "id": "aFy7ZE1fm7MT"
      },
      "source": [
        ""
      ],
      "execution_count": null,
      "outputs": []
    },
    {
      "cell_type": "markdown",
      "metadata": {
        "id": "oFpkfF8vA8s-"
      },
      "source": [
        "### [step 13] 선형 회귀 모델 작성\n",
        "#### 13-1. 선형 회귀 모델 생성하기\n",
        "\n",
        "*   LinearRegression()로 선형 회귀 모델 만들기\n",
        "\n",
        "<br/>\n",
        "\n",
        "```\n",
        "# sklearn의 linear_model에서 LinearRegression 명령어를 포함시키기\n",
        "from sklearn.linear_model import LinearRegression\n",
        "```\n",
        "\n"
      ]
    },
    {
      "cell_type": "code",
      "metadata": {
        "id": "6OiB9fG_Bg2M"
      },
      "source": [
        ""
      ],
      "execution_count": null,
      "outputs": []
    },
    {
      "cell_type": "markdown",
      "metadata": {
        "id": "a-zA7B0vB7b1"
      },
      "source": [
        "#### 13-2. 선형 회귀 모델 학습시키기\n",
        "\n",
        "\n",
        "*   fit() 명령어로 학습시키기\n",
        "* 훈련 데이터의 속성(x_train)과 레이블(y_train)을 를 사용하여 학습시킨다.\n",
        "\n",
        "\n",
        "```\n",
        "모델이름.fit()\n",
        "```\n"
      ]
    },
    {
      "cell_type": "code",
      "metadata": {
        "id": "pIpAPPhABg4c"
      },
      "source": [
        ""
      ],
      "execution_count": null,
      "outputs": []
    },
    {
      "cell_type": "markdown",
      "metadata": {
        "id": "MGubW0Ac539k"
      },
      "source": [
        "#### 13-3. 학습 결과(추세선) 확인하기 \n",
        "\n",
        "*   기울기 : 모델이름.coef_\n",
        "*   y절편 : 모델이름.intercept_\n",
        "\n"
      ]
    },
    {
      "cell_type": "code",
      "metadata": {
        "id": "NjXd7maE3rcD"
      },
      "source": [
        ""
      ],
      "execution_count": null,
      "outputs": []
    },
    {
      "cell_type": "code",
      "metadata": {
        "id": "0PmCu77J0jgz"
      },
      "source": [
        ""
      ],
      "execution_count": null,
      "outputs": []
    },
    {
      "cell_type": "markdown",
      "metadata": {
        "id": "xhd2HCAhoMwH"
      },
      "source": [
        "### [step 14] 선형회귀 모델 평가하기\n",
        "14-1. 작성한 모델의 예측 결과와 실젯값 비교하기 \n",
        "\n",
        "*   명령어 predict()로 예측시켜보기\n",
        "*  예측하려는 데이터는 이차원 리스트로 넣어주어야 한다. \n",
        "\n",
        "<br/>\n",
        "\n",
        "```\n",
        "모델이름.predict()\n",
        "```\n"
      ]
    },
    {
      "cell_type": "code",
      "metadata": {
        "id": "ysi1A5Ri0fYu"
      },
      "source": [
        "# 멤버십 기간이 5.5일때 예측시켜보기\n"
      ],
      "execution_count": null,
      "outputs": []
    },
    {
      "cell_type": "code",
      "metadata": {
        "id": "EPt2GtD-1RlL"
      },
      "source": [
        "# 전체 테스트데이터의 예측값을 y_pred에 저장하기\n"
      ],
      "execution_count": null,
      "outputs": []
    },
    {
      "cell_type": "code",
      "metadata": {
        "id": "EqWyLad8k388"
      },
      "source": [
        "# 테스트 데이터의 예측값\n",
        "\n",
        "# 테스트 데이터의 실제값\n"
      ],
      "execution_count": null,
      "outputs": []
    },
    {
      "cell_type": "markdown",
      "metadata": {
        "id": "cQuKn3FioZH5"
      },
      "source": [
        "### [step 15] 선형 회귀 모델 평가하기\n",
        "\n",
        "* 명령어 score()로 예측시켜보기\n",
        "\n",
        "\n",
        "\n",
        "```\n",
        "모델이름.score(테스트데이터 속성, 테스트데이터 레이블)\n",
        "```\n",
        "\n",
        "\n"
      ]
    },
    {
      "cell_type": "code",
      "metadata": {
        "id": "i1QJ-dO6oZxe"
      },
      "source": [
        ""
      ],
      "execution_count": null,
      "outputs": []
    },
    {
      "cell_type": "markdown",
      "metadata": {
        "id": "680rza82n-8v"
      },
      "source": [
        "------\n",
        "\n",
        "\n",
        "# 주제 2. 앱 사용시간으로 연간 소비액 예측하기\n",
        "\n",
        "\n",
        "\n",
        "```\n",
        "# 핵심속성과 레이블 분리\n",
        "X = 핵심속성\n",
        "y = 레이블\n",
        "\n",
        "# 훈련 데이터, 테스트 데이터 분리\n",
        "X_train, X_test, y_train, y_test = train_test_split(X, y, \n",
        "                                                    test_size = 0.3, \n",
        "                                                    random_state = 10)\n",
        "# 선형회귀 모델 생성하고 학습시키기\n",
        "모델이름 = LinearRegression()\n",
        "모델이름.fit(X_train, y_train)\n",
        "\n",
        "# 추세선 정보 확인하기\n",
        "print(모델이름.coef_)\n",
        "print(모델이름.intercept_)\n",
        "```\n",
        "\n",
        "\n"
      ]
    },
    {
      "cell_type": "code",
      "metadata": {
        "id": "mKINmzZAn-8w"
      },
      "source": [
        ""
      ],
      "execution_count": null,
      "outputs": []
    },
    {
      "cell_type": "code",
      "metadata": {
        "id": "pGOVqlj2s8Do"
      },
      "source": [
        "# 완성된 모델의 점수\n"
      ],
      "execution_count": null,
      "outputs": []
    },
    {
      "cell_type": "markdown",
      "metadata": {
        "id": "7jhri6I5jOaO"
      },
      "source": [
        "----------\n",
        "# 주제 3. 두 속성을 한 번에 예측에 활용하면 어떨까?\n",
        "\n",
        "\n",
        "<img src='https://github.com/teacher-jiejie/allinone_AI/blob/images/%EC%84%A0%ED%98%95%ED%9A%8C%EA%B7%80%20005.png?raw=true' width=700>\n",
        "\n",
        "\n",
        "\n",
        "\n",
        "```\n",
        "# 핵심속성과 레이블 분리\n",
        "X = 핵심속성\n",
        "y = 레이블\n",
        "\n",
        "# 훈련 데이터, 테스트 데이터 분리\n",
        "X_train, X_test, y_train, y_test = train_test_split(X, y, \n",
        "                                                    test_size = 0.3, \n",
        "                                                    random_state = 10)\n",
        "# 선형회귀 모델 생성하고 학습시키기\n",
        "모델이름 = LinearRegression()\n",
        "모델이름.fit(X_train, y_train)\n",
        "\n",
        "# 추세선 정보 확인하기\n",
        "print(모델이름.coef_)\n",
        "print(모델이름.intercept_)\n",
        "```\n"
      ]
    },
    {
      "cell_type": "code",
      "metadata": {
        "id": "dktXG6T-si3T"
      },
      "source": [
        ""
      ],
      "execution_count": null,
      "outputs": []
    },
    {
      "cell_type": "code",
      "metadata": {
        "id": "0WhFaevCs6Gm"
      },
      "source": [
        "# 완성된 모델의 점수\n"
      ],
      "execution_count": null,
      "outputs": []
    },
    {
      "cell_type": "markdown",
      "metadata": {
        "id": "wQG9ygGQtVBF"
      },
      "source": [
        "<br/>\n",
        "\n",
        "---\n",
        "\n",
        "\n",
        "\n",
        "1.   멤버십 기간 -> 연간소비액 예측 시 정확도 0.6842\n",
        "2.   앱 사용금액 -> 연간소비액 예측시 정확도 0.2468\n",
        "3.   멤버십 기간, 앱 사용금액 -> 연간 소비액 예측 시 정확도 0.8934\n",
        "\n"
      ]
    },
    {
      "cell_type": "markdown",
      "metadata": {
        "id": "XYpoq2uyRR5l"
      },
      "source": [
        "------\n",
        "\n",
        "\n",
        "# 주제 4. 속성 세 개를 예측에 활용하면 성능이 높아질까?\n",
        "\n",
        "\n",
        "<img src='https://github.com/teacher-jiejie/allinone_AI/blob/images/%EC%84%A0%ED%98%95%ED%9A%8C%EA%B7%80%20heatmap.png?raw=true' width=400>\n",
        "\n",
        "\n",
        "\n",
        "```\n",
        "# 핵심속성과 레이블 분리\n",
        "X = 핵심속성\n",
        "y = 레이블\n",
        "\n",
        "# 훈련 데이터, 테스트 데이터 분리\n",
        "X_train, X_test, y_train, y_test = train_test_split(X, y, \n",
        "                                                    test_size = 0.3, \n",
        "                                                    random_state = 10)\n",
        "# 선형회귀 모델 생성하고 학습시키기\n",
        "모델이름 = LinearRegression()\n",
        "모델이름.fit(X_train, y_train)\n",
        "\n",
        "# 추세선 정보 확인하기\n",
        "print(모델이름.coef_)\n",
        "print(모델이름.intercept_)\n",
        "```"
      ]
    },
    {
      "cell_type": "code",
      "metadata": {
        "id": "e_8zxUkvkWPB"
      },
      "source": [
        ""
      ],
      "execution_count": null,
      "outputs": []
    },
    {
      "cell_type": "code",
      "metadata": {
        "id": "jzyw-DLfkWdE"
      },
      "source": [
        "# 완성된 모델의 점수\n"
      ],
      "execution_count": null,
      "outputs": []
    }
  ]
}
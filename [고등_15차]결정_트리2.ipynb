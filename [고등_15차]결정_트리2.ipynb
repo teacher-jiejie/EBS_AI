{
  "nbformat": 4,
  "nbformat_minor": 0,
  "metadata": {
    "colab": {
      "name": "[고등-15차]결정 트리2.ipynb",
      "provenance": [],
      "collapsed_sections": [],
      "mount_file_id": "1Ub2LTwlrIkUVY4HtKC5yuHrydZp6RvIf",
      "authorship_tag": "ABX9TyNlPRVSOcV60RChXX58976o",
      "include_colab_link": true
    },
    "kernelspec": {
      "name": "python3",
      "display_name": "Python 3"
    },
    "language_info": {
      "name": "python"
    }
  },
  "cells": [
    {
      "cell_type": "markdown",
      "metadata": {
        "id": "view-in-github",
        "colab_type": "text"
      },
      "source": [
        "<a href=\"https://colab.research.google.com/github/teacher-jiejie/EBS_AI/blob/main/%5B%EA%B3%A0%EB%93%B1_15%EC%B0%A8%5D%EA%B2%B0%EC%A0%95_%ED%8A%B8%EB%A6%AC2.ipynb\" target=\"_parent\"><img src=\"https://colab.research.google.com/assets/colab-badge.svg\" alt=\"Open In Colab\"/></a>"
      ]
    },
    {
      "cell_type": "markdown",
      "metadata": {
        "id": "LQXpH2_JlI7U"
      },
      "source": [
        "# 문제 정의하기\n",
        "\n",
        "### 해결할 문제 : 붓꽃의 품종을 구분하기"
      ]
    },
    {
      "cell_type": "markdown",
      "metadata": {
        "id": "5eph2m8wBOcX"
      },
      "source": [
        "# [step 1] 데이터 수집 및 탐색하기\n",
        "\n",
        "\n",
        "\n",
        "\n",
        "\n",
        "\n",
        "\n",
        "\n"
      ]
    },
    {
      "cell_type": "markdown",
      "metadata": {
        "id": "iGji7K-LvH3i"
      },
      "source": [
        "### 1-1. 데이터 수집 및 업로드\n",
        "\n",
        "\n",
        "\n",
        "*   [붓꽃 데이터 출처](https://www.kaggle.com/uciml/iris)\n",
        "\n",
        "*   [데이터 내의 영단어를 한글로 바꾼 데이터 ](https://drive.google.com/file/d/1LkPLkLez444wmWe6Umqaf0udbnKAboZX/view?usp=sharing)"
      ]
    },
    {
      "cell_type": "markdown",
      "metadata": {
        "id": "5Z4QlaMZs8ER"
      },
      "source": [
        "\n",
        "\n",
        "```\n",
        "# 코랩에 파일 업로드\n",
        "from google.colab import files\n",
        "uploaded = files.upload()\n",
        "```\n",
        "\n",
        "```\n",
        "import pandas as pd\n",
        "\n",
        "변수 = pd.read_csv(파일이름, encoding='인코딩옵션')\n",
        "```\n",
        "\n",
        "\n",
        "\n"
      ]
    },
    {
      "cell_type": "code",
      "metadata": {
        "id": "ETDrgkT80Vtc"
      },
      "source": [
        ""
      ],
      "execution_count": null,
      "outputs": []
    },
    {
      "cell_type": "code",
      "metadata": {
        "id": "2Vy-pr23uRNA"
      },
      "source": [
        ""
      ],
      "execution_count": null,
      "outputs": []
    },
    {
      "cell_type": "markdown",
      "metadata": {
        "id": "K66sdqivBUna"
      },
      "source": [
        "### 1-2. 특성와 레이블 분리하기"
      ]
    },
    {
      "cell_type": "code",
      "metadata": {
        "id": "PIZU8pXS2YA1"
      },
      "source": [
        ""
      ],
      "execution_count": null,
      "outputs": []
    },
    {
      "cell_type": "code",
      "metadata": {
        "id": "q90AAbc75aVk"
      },
      "source": [
        ""
      ],
      "execution_count": null,
      "outputs": []
    },
    {
      "cell_type": "code",
      "metadata": {
        "id": "__D4yiiQ5csg"
      },
      "source": [
        ""
      ],
      "execution_count": null,
      "outputs": []
    },
    {
      "cell_type": "markdown",
      "metadata": {
        "id": "GMoGfR9EBaY0"
      },
      "source": [
        "### 1-3. 훈련 데이터, 테스트 데이터 분리하기\n",
        "\n",
        "<img src='https://github.com/teacher-jiejie/allinone_AI/blob/images/%EB%8D%B0%EC%9D%B4%ED%84%B0%EB%B6%84%ED%95%A0.png?raw=true' width=600>"
      ]
    },
    {
      "cell_type": "markdown",
      "metadata": {
        "id": "hq6KHndlgU_Y"
      },
      "source": [
        "train_test_split() 함수 \n",
        "\n",
        "*   훈련 데이터와 테스트 데이터를 분리하는 명령어\n",
        "*   훈련 데이터의 특성과 레이블은 X_train과 y_train에 저장\n",
        "*   테스트 데이터의 특성과 레이블은 X_test, y_test에 저장\n",
        "*  test_size = 훈련 데이터와 테스트 데이터의 비율 \n",
        "*  random_state = 난수 초기값 설정\n",
        "* train_test_split()은 실행 시마다 랜덤으로 훈련 데이터와 테스트 데이터를 나누기 때문에 항상 동일하게 데이터를 분리하기 위해 random_state를 특정 숫자로 지정한다.\n",
        "\n",
        "\n",
        "```\n",
        "# sklearn의 model_selection에서 train_test_split() 명령어를 포함시키기\n",
        "from sklearn.model_selection import train_test_split\n",
        "```\n",
        "\n",
        "\n",
        "\n"
      ]
    },
    {
      "cell_type": "code",
      "metadata": {
        "id": "YcPWrMVKBeO4"
      },
      "source": [
        ""
      ],
      "execution_count": null,
      "outputs": []
    },
    {
      "cell_type": "code",
      "metadata": {
        "id": "W-9aGQAaGk9Y"
      },
      "source": [
        ""
      ],
      "execution_count": null,
      "outputs": []
    },
    {
      "cell_type": "code",
      "metadata": {
        "id": "eIXWYhuYGpco"
      },
      "source": [
        ""
      ],
      "execution_count": null,
      "outputs": []
    },
    {
      "cell_type": "markdown",
      "metadata": {
        "id": "Zq5C4YVyMrK4"
      },
      "source": [
        "# [step 2] 결정 트리 모델 작성하고, 학습시키기"
      ]
    },
    {
      "cell_type": "markdown",
      "metadata": {
        "id": "cklpNWnOqr19"
      },
      "source": [
        "\n",
        "<img src='https://github.com/teacher-jiejie/allinone_AI/blob/images/%E1%84%80%E1%85%A7%E1%86%AF%E1%84%8C%E1%85%A5%E1%86%BC%E1%84%90%E1%85%B3%E1%84%85%E1%85%B5%20009.png?raw=true' width=700>\n",
        "\n"
      ]
    },
    {
      "cell_type": "markdown",
      "metadata": {
        "id": "kTEgyt3Ty-9y"
      },
      "source": [
        "\n",
        "### 2-1. 결정 트리 모델 생성\n",
        "\n",
        "\n",
        "*   DecisionTreeClassifier()로 결정트리 모델 만들기\n",
        "*   max_depth = 최대 트리 깊이\n",
        "*   random_state를 설정하면 항상 동일한 난수로 알고리즘이 작동해, 재실행해도 동일한 결과가 나온다.\n",
        "\n",
        "<br/>\n",
        "\n",
        "```\n",
        "# sklearn의 tree에서 결정 트리 알고리즘을 포함시키기\n",
        "from sklearn.tree import DecisionTreeClassifier\n",
        "```\n",
        "\n"
      ]
    },
    {
      "cell_type": "code",
      "metadata": {
        "id": "6OiB9fG_Bg2M"
      },
      "source": [
        ""
      ],
      "execution_count": null,
      "outputs": []
    },
    {
      "cell_type": "markdown",
      "metadata": {
        "id": "0BPU6_7_qtS_"
      },
      "source": [
        "### 2-2. 결정 트리 모델 학습시키기\n",
        "\n",
        "\n",
        "*   명령어 fit()으로 학습시키기\n",
        "*   훈련데이터로 학습 \n",
        "\n",
        "\n",
        "\n",
        "\n",
        "```\n",
        "모델이름.fit()\n",
        "```\n",
        "\n",
        "\n"
      ]
    },
    {
      "cell_type": "code",
      "metadata": {
        "id": "pIpAPPhABg4c"
      },
      "source": [
        ""
      ],
      "execution_count": null,
      "outputs": []
    },
    {
      "cell_type": "markdown",
      "metadata": {
        "id": "zRQT5T9ybOPo"
      },
      "source": [
        "# [step 3] 결정 트리 모델 평가하기"
      ]
    },
    {
      "cell_type": "markdown",
      "metadata": {
        "id": "CaPQgYHODkDe"
      },
      "source": [
        "### 3-1. 작성한 결정 트리 모델로 새로운 데이터 예측하기\n",
        "\n",
        "*   명령어 predict()로 예측시켜보기\n",
        "*  예측하려는 데이터는 이차원 형태로 넣어주어야 한다. \n",
        "\n",
        "```\n",
        "모델이름.predict()\n",
        "```\n",
        "\n"
      ]
    },
    {
      "cell_type": "code",
      "metadata": {
        "id": "NPQqL8wFDdUk"
      },
      "source": [
        "# 다음 붓꽃 품종 예측해보기 \n",
        "# 꽃받침길이(6.3cm), 꽃받침너비(2.3cm), 꽃잎길이(4.4cm)와 꽃잎너비(1.3cm)\n"
      ],
      "execution_count": null,
      "outputs": []
    },
    {
      "cell_type": "code",
      "metadata": {
        "id": "UKrlaofnPBhC"
      },
      "source": [
        ""
      ],
      "execution_count": null,
      "outputs": []
    },
    {
      "cell_type": "code",
      "metadata": {
        "id": "0f7NdxkO4pla"
      },
      "source": [
        ""
      ],
      "execution_count": null,
      "outputs": []
    },
    {
      "cell_type": "code",
      "metadata": {
        "id": "Yw2CkJ603uvH"
      },
      "source": [
        ""
      ],
      "execution_count": null,
      "outputs": []
    },
    {
      "cell_type": "code",
      "metadata": {
        "id": "3fSwPLZjP_p3"
      },
      "source": [
        "# 다음 데이터 세 개를 동시에 예측해보기 \n",
        "# X_test.iloc[0], X_test.iloc[20], X_test.iloc[30]\n"
      ],
      "execution_count": null,
      "outputs": []
    },
    {
      "cell_type": "code",
      "metadata": {
        "id": "-1o4bZo4QME6"
      },
      "source": [
        "# 실제 정답은?\n"
      ],
      "execution_count": null,
      "outputs": []
    },
    {
      "cell_type": "markdown",
      "metadata": {
        "id": "3YiSwWFnC7wB"
      },
      "source": [
        "### 3-2. 결정 트리 모델 정확도 평가하기\n",
        "\n",
        "*   명령어 accuracy_score(실제값, 예측값)를 이용해 정확도 측정\n",
        "*   테스트 데이터의 특성(X_test)을 예측시킨 값(y_pred)과 실제 정답 레이블(y_test)을 비교해 정확도를 측정\n",
        "\n",
        "\n",
        "\n",
        "```\n",
        "# sklearn의 metrics에서 정확도 측정 명령어를 포함시키기\n",
        "from sklearn.metrics import accuracy_score\n",
        "```\n",
        "\n"
      ]
    },
    {
      "cell_type": "code",
      "metadata": {
        "id": "Spmgmw-6Bg6l"
      },
      "source": [
        ""
      ],
      "execution_count": null,
      "outputs": []
    },
    {
      "cell_type": "markdown",
      "metadata": {
        "id": "oQXofv4sfg76"
      },
      "source": [
        "# [step 4] 결정트리 확인하기"
      ]
    },
    {
      "cell_type": "markdown",
      "metadata": {
        "id": "dByWNdAFBslK"
      },
      "source": [
        "\n",
        "\n",
        "```\n",
        "# 결정 트리 확인하기\n",
        "import graphviz\n",
        "from sklearn.tree import export_graphviz\n",
        " \n",
        "# 결정 트리를 시각화하여 tree.dot 파일로 내보내는 코드\n",
        "export_graphviz(모델이름, out_file ='tree.dot',\n",
        "                feature_names = [학습시킨 특성 이름],    \n",
        "                class_names = [레이블값],\n",
        "                filled = True, rounded = True)\n",
        " \n",
        "# 위에서 만든 tree.dot을 화면에 보이게 하기\n",
        "with open(\"tree.dot\") as f:\n",
        "    dot_graph = f.read()\n",
        "display(graphviz.Source(dot_graph))\n",
        "```\n",
        "\n"
      ]
    },
    {
      "cell_type": "code",
      "metadata": {
        "id": "9Dj72uO6cc8I"
      },
      "source": [
        "# 학습시킨 특성 \n"
      ],
      "execution_count": null,
      "outputs": []
    },
    {
      "cell_type": "code",
      "metadata": {
        "id": "HJYtKEfPb5X3"
      },
      "source": [
        "# 레이블값\n"
      ],
      "execution_count": null,
      "outputs": []
    },
    {
      "cell_type": "code",
      "metadata": {
        "id": "BFi8QgXzcLln"
      },
      "source": [
        ""
      ],
      "execution_count": null,
      "outputs": []
    },
    {
      "cell_type": "markdown",
      "metadata": {
        "id": "I0wZi9E2Vher"
      },
      "source": [
        "#### ※ 참고 1\n",
        "\n",
        "random_state를 다른 값으로 설정하면 다른 결정 트리가 출력됩니다."
      ]
    },
    {
      "cell_type": "code",
      "metadata": {
        "id": "Dy4ItZxgVg3h"
      },
      "source": [
        "X_train, X_test, y_train, y_test = train_test_split(X, y, \n",
        "                                                    test_size = 0.3, \n",
        "                                                    random_state = 99)\n",
        "# random_state = 10로 설정하기\n",
        "tree_test = DecisionTreeClassifier(max_depth = 2, random_state=10)\n",
        "tree_test.fit(X_train, y_train)\n",
        "\n",
        "export_graphviz(tree_test, out_file ='tree.dot',\n",
        "                feature_names = X.columns,    \n",
        "                class_names = tree_test.classes_,\n",
        "                filled = True, rounded = True)\n",
        "\n",
        "with open(\"tree.dot\") as f:\n",
        "    dot_graph = f.read()\n",
        "display(graphviz.Source(dot_graph))"
      ],
      "execution_count": null,
      "outputs": []
    },
    {
      "cell_type": "markdown",
      "metadata": {
        "id": "UKKJMesffYoC"
      },
      "source": [
        "#### ※ 참고 2\n",
        "\n",
        "불순도 기준을 엔트로피로 설정하기"
      ]
    },
    {
      "cell_type": "code",
      "metadata": {
        "id": "-2gmAxN2dsFj"
      },
      "source": [
        "X_train, X_test, y_train, y_test = train_test_split(X, y, \n",
        "                                                    test_size = 0.3, \n",
        "                                                    random_state = 99)\n",
        "\n",
        "tree_entropy = DecisionTreeClassifier(max_depth = 2, criterion='entropy', \n",
        "                                    random_state=99)\n",
        "tree_entropy.fit(X_train, y_train)\n",
        "\n",
        "export_graphviz(tree_entropy, out_file ='tree.dot',\n",
        "                feature_names = X.columns,    \n",
        "                class_names = tree_entropy.classes_,\n",
        "                filled = True, rounded = True)\n",
        "\n",
        "with open(\"tree.dot\") as f:\n",
        "    dot_graph = f.read()\n",
        "display(graphviz.Source(dot_graph))"
      ],
      "execution_count": null,
      "outputs": []
    },
    {
      "cell_type": "code",
      "metadata": {
        "id": "35vrxiipjO3S"
      },
      "source": [
        ""
      ],
      "execution_count": null,
      "outputs": []
    }
  ]
}
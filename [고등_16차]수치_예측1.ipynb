{
  "nbformat": 4,
  "nbformat_minor": 0,
  "metadata": {
    "colab": {
      "name": "[고등-16차]수치 예측1.ipynb",
      "provenance": [],
      "collapsed_sections": [],
      "mount_file_id": "1-nvh1kIA7GgmWe9COl7YwOuMWdD0ki6e",
      "authorship_tag": "ABX9TyPTpkz3X9W8mwDnKzr8cS4b",
      "include_colab_link": true
    },
    "kernelspec": {
      "name": "python3",
      "display_name": "Python 3"
    },
    "language_info": {
      "name": "python"
    }
  },
  "cells": [
    {
      "cell_type": "markdown",
      "metadata": {
        "id": "view-in-github",
        "colab_type": "text"
      },
      "source": [
        "<a href=\"https://colab.research.google.com/github/teacher-jiejie/EBS_AI/blob/main/%5B%EA%B3%A0%EB%93%B1_16%EC%B0%A8%5D%EC%88%98%EC%B9%98_%EC%98%88%EC%B8%A11.ipynb\" target=\"_parent\"><img src=\"https://colab.research.google.com/assets/colab-badge.svg\" alt=\"Open In Colab\"/></a>"
      ]
    },
    {
      "cell_type": "markdown",
      "metadata": {
        "id": "7fk9UKkYMxJW"
      },
      "source": [
        "# 문제 정의 : 온라인 고객들의 소비액 예측하기\n",
        "\n",
        "\n",
        "**온라인 쇼핑 소비자 500명 데이터**\n",
        "\n",
        "\n",
        "*   [온라인 쇼핑 소비자 데이터 출처](https://www.kaggle.com/srolka/ecommerce-customers)\n",
        "*   [데이터 내 영단어를 한글로 바꾼 데이터](https://drive.google.com/file/d/1b42x7W_GbypDoLoYSObNG-a5JVgoY5sR/view?usp=sharing)\n"
      ]
    },
    {
      "cell_type": "markdown",
      "metadata": {
        "id": "6h6f9zjrpPmI"
      },
      "source": [
        "*   Email : 이메일\n",
        "*   Address : wnth\n",
        "* Avatar : 아바타\n",
        "* Avg.Session Length : 매장 내 스타일 조언 평균 시간\n",
        "* Time on App : 앱 사용 시간\n",
        "* Time on Website : 웹사이트 사용 시간\n",
        "* Lenth of Membership : 멤버십 기간\n",
        "* Yearly Amount Spent : 연간 소비 지출액\n"
      ]
    },
    {
      "cell_type": "markdown",
      "metadata": {
        "id": "3dURm2p6bAs8"
      },
      "source": [
        "들어가기 전에, 한글 폰트 설정하기\n",
        "\n",
        "\n",
        "1. 아래 코드 실행\n",
        "\n",
        "```\n",
        "# 한글 폰트 설정\n",
        "import matplotlib as mpl\n",
        "import matplotlib.pyplot as plt\n",
        "!apt -qq -y install fonts-nanum\n",
        "\n",
        "import matplotlib.font_manager as fm\n",
        "\n",
        "fontpath = '/usr/share/fonts/truetype/nanum/NanumBarunGothic.ttf'\n",
        "font = fm.FontProperties(fname=fontpath, size=9)\n",
        "plt.rc('font', family='NanumBarunGothic')\n",
        "mpl.font_manager._rebuild()\n",
        "\n",
        "```\n",
        "\n",
        "2. [런타임] - [런타임 다시 시작]\n"
      ]
    },
    {
      "cell_type": "code",
      "metadata": {
        "id": "ZMGnzxetZgci"
      },
      "source": [
        ""
      ],
      "execution_count": null,
      "outputs": []
    },
    {
      "cell_type": "markdown",
      "metadata": {
        "id": "5eph2m8wBOcX"
      },
      "source": [
        "# [step 1] 데이터 수집 및 분석하기\n",
        "### 1-1. 데이터 수집 및 업로드\n",
        "\n",
        "\n",
        "\n",
        "\n"
      ]
    },
    {
      "cell_type": "markdown",
      "metadata": {
        "id": "87oSKBv7iRzx"
      },
      "source": [
        "\n",
        "\n",
        "```\n",
        "# 코랩에 파일 업로드\n",
        "from google.colab import files\n",
        "uploaded = files.upload()\n",
        "```\n",
        "\n",
        "```\n",
        "import pandas as pd\n",
        "\n",
        "변수 = pd.read_csv(파일이름, encoding='인코딩옵션')\n",
        "```\n",
        "\n",
        "\n",
        "\n"
      ]
    },
    {
      "cell_type": "code",
      "metadata": {
        "id": "XuFBEK5XiRzy"
      },
      "source": [
        ""
      ],
      "execution_count": null,
      "outputs": []
    },
    {
      "cell_type": "code",
      "metadata": {
        "id": "6ljO2imscYh2"
      },
      "source": [
        ""
      ],
      "execution_count": null,
      "outputs": []
    },
    {
      "cell_type": "markdown",
      "metadata": {
        "id": "BjNgB2aEV_YR"
      },
      "source": [
        "# [step 2] 데이터셋 요약 출력"
      ]
    },
    {
      "cell_type": "code",
      "metadata": {
        "id": "p0wfqT3MAqWO"
      },
      "source": [
        ""
      ],
      "execution_count": null,
      "outputs": []
    },
    {
      "cell_type": "markdown",
      "metadata": {
        "id": "trsMVMgIli4b"
      },
      "source": [
        "# [step 3] 데이터셋 정보 출력"
      ]
    },
    {
      "cell_type": "code",
      "metadata": {
        "id": "fR4EOHUqWGaW"
      },
      "source": [
        ""
      ],
      "execution_count": null,
      "outputs": []
    },
    {
      "cell_type": "markdown",
      "metadata": {
        "id": "BClQfj9FYQip"
      },
      "source": [
        "# [step 4-5] seaborn으로 상관관계 확인하기 \n",
        "\n",
        "```\n",
        "import seaborn as sns\n",
        "\n",
        "sns.jointplot(x='x축 속성', y='y축 속성', data= 데이터셋)\n",
        "plt.show()\n",
        "```\n",
        "\n"
      ]
    },
    {
      "cell_type": "code",
      "metadata": {
        "id": "fqaCycrVWGjk"
      },
      "source": [
        ""
      ],
      "execution_count": null,
      "outputs": []
    },
    {
      "cell_type": "code",
      "metadata": {
        "id": "5bG4zCX6WGlq"
      },
      "source": [
        ""
      ],
      "execution_count": null,
      "outputs": []
    },
    {
      "cell_type": "markdown",
      "metadata": {
        "id": "q_Pnp__yZl5_"
      },
      "source": [
        "# [step 6] 모든 속성간의 상관관계를 그래프로 한번에 확인하기\n",
        "\n",
        "\n",
        "\n",
        "```\n",
        "sns.pairplot(데이터셋)\n",
        "```\n",
        "\n"
      ]
    },
    {
      "cell_type": "code",
      "metadata": {
        "id": "eQAFR6wcWGpJ"
      },
      "source": [
        ""
      ],
      "execution_count": null,
      "outputs": []
    },
    {
      "cell_type": "markdown",
      "metadata": {
        "id": "WAmikQ_qaTQY"
      },
      "source": [
        "# [step 7] 연간 소비액과 가장 관련있는 속성은?"
      ]
    },
    {
      "cell_type": "code",
      "metadata": {
        "id": "VYggQvh8WG2x"
      },
      "source": [
        ""
      ],
      "execution_count": null,
      "outputs": []
    },
    {
      "cell_type": "markdown",
      "metadata": {
        "id": "eKSLnii2a5kf"
      },
      "source": [
        "# [step 8] 속성 간 상관계수 확인하기\n",
        "\n",
        "```\n",
        "데이터프레임.corr()\n",
        "```\n",
        "\n",
        "```\n",
        "sns.heatmap(데이터셋)\n",
        "```\n"
      ]
    },
    {
      "cell_type": "code",
      "metadata": {
        "id": "T1_Hp1kwWG5M"
      },
      "source": [
        ""
      ],
      "execution_count": null,
      "outputs": []
    },
    {
      "cell_type": "code",
      "metadata": {
        "id": "9QUasQh2bkXx"
      },
      "source": [
        ""
      ],
      "execution_count": null,
      "outputs": []
    },
    {
      "cell_type": "markdown",
      "metadata": {
        "id": "UBcPsT4ddXfj"
      },
      "source": [
        "# [step 9] 핵심속성 추출\n",
        "\n",
        "\n"
      ]
    },
    {
      "cell_type": "code",
      "metadata": {
        "id": "f7JG8MsbnzVJ"
      },
      "source": [
        ""
      ],
      "execution_count": null,
      "outputs": []
    },
    {
      "cell_type": "markdown",
      "metadata": {
        "id": "N1nOEJXwnzlE"
      },
      "source": [
        "\n",
        "# [step 10-11] 핵심속성과 연간 소비액 간의 산점도 및 추세선 그리기\n",
        "```\n",
        "sns.regplot(x='x축 속성', y='y축 속성', data= 데이터셋)\n",
        "```\n",
        "\n"
      ]
    },
    {
      "cell_type": "code",
      "metadata": {
        "id": "ahWyCS9ndXkh"
      },
      "source": [
        ""
      ],
      "execution_count": null,
      "outputs": []
    },
    {
      "cell_type": "markdown",
      "metadata": {
        "id": "D-dUraGfeofF"
      },
      "source": [
        "음영처리된 부분은 추세선의 95% 신뢰구간"
      ]
    },
    {
      "cell_type": "code",
      "metadata": {
        "id": "U0ENeoDwdt2p"
      },
      "source": [
        ""
      ],
      "execution_count": null,
      "outputs": []
    },
    {
      "cell_type": "code",
      "metadata": {
        "id": "1U2TeEvWdt9d"
      },
      "source": [
        ""
      ],
      "execution_count": null,
      "outputs": []
    }
  ]
}